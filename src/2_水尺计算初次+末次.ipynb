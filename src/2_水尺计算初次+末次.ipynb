{
 "cells": [
  {
   "cell_type": "markdown",
   "metadata": {
    "collapsed": true,
    "pycharm": {
     "name": "#%% md\n"
    }
   },
   "source": [
    "# 水尺计算初次+末次\n"
   ]
  },
  {
   "cell_type": "code",
   "execution_count": 8,
   "outputs": [],
   "source": [
    "import datetime as dt\n",
    "\n",
    "import xlwings as xw"
   ],
   "metadata": {
    "collapsed": false,
    "pycharm": {
     "name": "#%%\n"
    }
   }
  },
  {
   "cell_type": "code",
   "execution_count": 9,
   "outputs": [],
   "source": [
    "# 打开\n",
    "s_wb = xw.Book('../resources/2021-05-23 宝丽 末次.xlsx')\n",
    "t_wb = xw.Book('../resources/空白水尺模板.xlsx')"
   ],
   "metadata": {
    "collapsed": false,
    "pycharm": {
     "name": "#%%\n"
    }
   }
  },
  {
   "cell_type": "code",
   "execution_count": 10,
   "outputs": [],
   "source": [
    "s_sheet_水尺计算 = s_wb.sheets['水尺计算']\n",
    "s_sheet_船用物料 = s_wb.sheets['船用物料']\n",
    "\n",
    "t_sheet_水尺计算初次 = t_wb.sheets['水尺计算初次']\n",
    "t_sheet_水尺计算末次 = t_wb.sheets['水尺计算末次']"
   ],
   "metadata": {
    "collapsed": false,
    "pycharm": {
     "name": "#%%\n"
    }
   }
  },
  {
   "cell_type": "code",
   "execution_count": 11,
   "outputs": [],
   "source": [
    "# s_sheet_水尺计算\n",
    "v_首次_艏左舷 = s_sheet_水尺计算.range('D12').value\n",
    "v_首次_艏右舷 = s_sheet_水尺计算.range('D13').value\n",
    "v_首次_舯左舷 = s_sheet_水尺计算.range('D15').value\n",
    "v_首次_舯右舷 = s_sheet_水尺计算.range('D16').value\n",
    "v_首次_艉左舷 = s_sheet_水尺计算.range('D18').value\n",
    "v_首次_艉右舷 = s_sheet_水尺计算.range('D19').value\n",
    "\n",
    "v_首次_LBP = s_sheet_水尺计算.range('D5').value\n",
    "v_首次_艏垂线距 = s_sheet_水尺计算.range('D23').value\n",
    "v_首次_舯垂线距 = s_sheet_水尺计算.range('D24').value\n",
    "v_首次_艉垂线距 = s_sheet_水尺计算.range('D25').value\n",
    "\n",
    "v_首次_TPC = s_sheet_水尺计算.range('D42').value\n",
    "v_首次_LCF = s_sheet_水尺计算.range('D43').value\n",
    "v_首次_MTC1 = s_sheet_水尺计算.range('D44').value\n",
    "v_首次_MTC2 = s_sheet_水尺计算.range('D45').value\n",
    "\n",
    "v_首次_港水密度 = s_sheet_水尺计算.range('D39').value\n",
    "\n",
    "v_首次_空船重量 = s_sheet_水尺计算.range('D7').value\n",
    "v_首次_预报船舶常数 = s_sheet_水尺计算.range('D8').value\n",
    "\n",
    "v_首次_查表水尺 = s_sheet_水尺计算.range('D40').value\n",
    "v_首次_查表排水量 = s_sheet_水尺计算.range('D41').value\n",
    "\n",
    "#====================================【末次】==================================\n",
    "\n",
    "v_末次_艏左舷 = s_sheet_水尺计算.range('E12').value\n",
    "v_末次_艏右舷 = s_sheet_水尺计算.range('E13').value\n",
    "v_末次_舯左舷 = s_sheet_水尺计算.range('E15').value\n",
    "v_末次_舯右舷 = s_sheet_水尺计算.range('E16').value\n",
    "v_末次_艉左舷 = s_sheet_水尺计算.range('E18').value\n",
    "v_末次_艉右舷 = s_sheet_水尺计算.range('E19').value\n",
    "\n",
    "v_末次_LBP = s_sheet_水尺计算.range('D5').value\n",
    "v_末次_艏垂线距 = s_sheet_水尺计算.range('E23').value\n",
    "v_末次_舯垂线距 = s_sheet_水尺计算.range('E24').value\n",
    "v_末次_艉垂线距 = s_sheet_水尺计算.range('E25').value\n",
    "\n",
    "v_末次_TPC = s_sheet_水尺计算.range('E42').value\n",
    "v_末次_LCF = s_sheet_水尺计算.range('E43').value\n",
    "v_末次_MTC1 = s_sheet_水尺计算.range('E44').value\n",
    "v_末次_MTC2 = s_sheet_水尺计算.range('E45').value\n",
    "\n",
    "v_末次_港水密度 = s_sheet_水尺计算.range('E39').value\n",
    "\n",
    "v_末次_空船重量 = s_sheet_水尺计算.range('D7').value\n",
    "v_末次_预报船舶常数 = s_sheet_水尺计算.range('D8').value\n",
    "\n",
    "v_末次_查表水尺 = s_sheet_水尺计算.range('E40').value\n",
    "v_末次_查表排水量 = s_sheet_水尺计算.range('E41').value\n"
   ],
   "metadata": {
    "collapsed": false,
    "pycharm": {
     "name": "#%%\n"
    }
   }
  },
  {
   "cell_type": "code",
   "execution_count": 12,
   "outputs": [],
   "source": [
    "# s_sheet_船用物料\n",
    "v_首次_重油 = s_sheet_船用物料.range('F7').value\n",
    "v_首次_清油 = s_sheet_船用物料.range('F8').value\n",
    "v_首次_滑油 = s_sheet_船用物料.range('F9').value\n",
    "\n",
    "v_末次_重油 = s_sheet_船用物料.range('H7').value\n",
    "v_末次_清油 = s_sheet_船用物料.range('H8').value\n",
    "v_末次_滑油 = s_sheet_船用物料.range('H9').value\n",
    "#\n",
    "# v_货物卸毕时间"
   ],
   "metadata": {
    "collapsed": false,
    "pycharm": {
     "name": "#%%\n"
    }
   }
  },
  {
   "cell_type": "code",
   "execution_count": 13,
   "outputs": [],
   "source": [
    "t_sheet_水尺计算初次.range('D9').value = v_首次_艏左舷\n",
    "t_sheet_水尺计算初次.range('L9').value = v_首次_艏右舷\n",
    "t_sheet_水尺计算初次.range('D10').value = v_首次_舯左舷\n",
    "t_sheet_水尺计算初次.range('L10').value = v_首次_舯右舷\n",
    "t_sheet_水尺计算初次.range('D11').value = v_首次_艉左舷\n",
    "t_sheet_水尺计算初次.range('L11').value = v_首次_艉右舷\n",
    "\n",
    "t_sheet_水尺计算初次.range('C14').value = v_首次_LBP\n",
    "t_sheet_水尺计算初次.range('C15').value = v_首次_艏垂线距\n",
    "t_sheet_水尺计算初次.range('C16').value = v_首次_舯垂线距\n",
    "t_sheet_水尺计算初次.range('C17').value = v_首次_艉垂线距\n",
    "\n",
    "t_sheet_水尺计算初次.range('B21').value = v_首次_TPC\n",
    "t_sheet_水尺计算初次.range('G21').value = v_首次_LCF\n",
    "t_sheet_水尺计算初次.range('I21').value = v_首次_MTC1\n",
    "t_sheet_水尺计算初次.range('O21').value = v_首次_MTC2\n",
    "\n",
    "t_sheet_水尺计算初次.range('L25').value = v_首次_港水密度\n",
    "\n",
    "t_sheet_水尺计算初次.range('D34').value = v_首次_空船重量\n",
    "t_sheet_水尺计算初次.range('AC18').value = v_首次_查表水尺\n",
    "t_sheet_水尺计算初次.range('AE18').value = v_首次_查表排水量\n",
    "\n",
    "t_sheet_水尺计算初次.range('AD31').value = v_首次_预报船舶常数\n",
    "\n",
    "t_sheet_水尺计算初次.range('AC27').value = v_首次_重油\n",
    "t_sheet_水尺计算初次.range('AC28').value = v_首次_清油\n",
    "t_sheet_水尺计算初次.range('AC29').value = v_首次_滑油\n",
    "\n",
    "\n",
    "\n",
    "#==================================【末次】=====================================\n",
    "\n",
    "t_sheet_水尺计算末次.range('D9').value = v_末次_艏左舷\n",
    "t_sheet_水尺计算末次.range('L9').value = v_末次_艏右舷\n",
    "t_sheet_水尺计算末次.range('D10').value = v_末次_舯左舷\n",
    "t_sheet_水尺计算末次.range('L10').value = v_末次_舯右舷\n",
    "t_sheet_水尺计算末次.range('D11').value = v_末次_艉左舷\n",
    "t_sheet_水尺计算末次.range('L11').value = v_末次_艉右舷\n",
    "\n",
    "t_sheet_水尺计算末次.range('C14').value = v_末次_LBP\n",
    "t_sheet_水尺计算末次.range('C15').value = v_末次_艏垂线距\n",
    "t_sheet_水尺计算末次.range('C16').value = v_末次_舯垂线距\n",
    "t_sheet_水尺计算末次.range('C17').value = v_末次_艉垂线距\n",
    "\n",
    "t_sheet_水尺计算末次.range('B21').value = v_末次_TPC\n",
    "t_sheet_水尺计算末次.range('G21').value = v_末次_LCF\n",
    "t_sheet_水尺计算末次.range('I21').value = v_末次_MTC1\n",
    "t_sheet_水尺计算末次.range('O21').value = v_末次_MTC2\n",
    "\n",
    "t_sheet_水尺计算末次.range('L25').value = v_末次_港水密度\n",
    "\n",
    "t_sheet_水尺计算末次.range('D34').value = v_末次_空船重量\n",
    "t_sheet_水尺计算末次.range('AC18').value = v_末次_查表水尺\n",
    "t_sheet_水尺计算末次.range('AE18').value = v_末次_查表排水量\n",
    "\n",
    "t_sheet_水尺计算末次.range('AD31').value = v_末次_预报船舶常数\n",
    "\n",
    "t_sheet_水尺计算末次.range('AC27').value = v_末次_重油\n",
    "t_sheet_水尺计算末次.range('AC28').value = v_末次_清油\n",
    "t_sheet_水尺计算末次.range('AC29').value = v_末次_滑油\n"
   ],
   "metadata": {
    "collapsed": false,
    "pycharm": {
     "name": "#%%\n"
    }
   }
  },
  {
   "cell_type": "code",
   "execution_count": 14,
   "outputs": [],
   "source": [
    "t_wb.save()\n",
    "s_wb.save()\n",
    "#\n",
    "# s_wb.close()\n",
    "# t_wb.close()"
   ],
   "metadata": {
    "collapsed": false,
    "pycharm": {
     "name": "#%%\n"
    }
   }
  },
  {
   "cell_type": "code",
   "execution_count": 14,
   "outputs": [],
   "source": [],
   "metadata": {
    "collapsed": false,
    "pycharm": {
     "name": "#%%\n"
    }
   }
  }
 ],
 "metadata": {
  "kernelspec": {
   "display_name": "Python 3",
   "language": "python",
   "name": "python3"
  },
  "language_info": {
   "codemirror_mode": {
    "name": "ipython",
    "version": 2
   },
   "file_extension": ".py",
   "mimetype": "text/x-python",
   "name": "python",
   "nbconvert_exporter": "python",
   "pygments_lexer": "ipython2",
   "version": "2.7.6"
  }
 },
 "nbformat": 4,
 "nbformat_minor": 0
}