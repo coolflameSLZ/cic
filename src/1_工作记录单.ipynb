{
 "cells": [
  {
   "cell_type": "markdown",
   "metadata": {
    "collapsed": true,
    "pycharm": {
     "name": "#%% md\n"
    }
   },
   "source": [
    "# 工作记录单\n"
   ]
  },
  {
   "cell_type": "code",
   "execution_count": 15,
   "outputs": [],
   "source": [
    "import datetime as dt\n",
    "\n",
    "import xlwings as xw"
   ],
   "metadata": {
    "collapsed": false,
    "pycharm": {
     "name": "#%%\n"
    }
   }
  },
  {
   "cell_type": "code",
   "execution_count": 16,
   "outputs": [],
   "source": [
    "# 打开\n",
    "s_wb = xw.Book('../resources/2021-05-23 宝丽 末次.xlsx')\n",
    "t_wb = xw.Book('../resources/空白水尺模板.xlsx')"
   ],
   "metadata": {
    "collapsed": false,
    "pycharm": {
     "name": "#%%\n"
    }
   }
  },
  {
   "cell_type": "code",
   "execution_count": 17,
   "outputs": [],
   "source": [
    "s_sheet_工作记录 = s_wb.sheets['工作记录']\n",
    "s_sheet_货物信息 = s_wb.sheets['货物信息']\n",
    "s_sheet_记1 = s_wb.sheets['记(1)']\n",
    "\n",
    "t_sheet_工作记录单 = t_wb.sheets['工作记录单']"
   ],
   "metadata": {
    "collapsed": false,
    "pycharm": {
     "name": "#%%\n"
    }
   }
  },
  {
   "cell_type": "code",
   "execution_count": 18,
   "outputs": [],
   "source": [
    "# s_sheet_工作记录\n",
    "v_船舶名称 = s_sheet_工作记录.range('C18').value\n",
    "v_船次 = s_sheet_工作记录.range('C19').value\n",
    "v_靠泊时间 = s_sheet_工作记录.range('C20').options(dates=dt.datetime).value\n",
    "v_注册国家地区 = s_sheet_工作记录.range('C21').value\n",
    "\n",
    "v_首次_工作人员 = s_sheet_工作记录.range('C5').value\n",
    "v_首次_工作日期 = s_sheet_工作记录.range('C6').value\n",
    "v_首次_工作时间 = s_sheet_工作记录.range('C7').value\n",
    "v_首次_工作地点 = s_sheet_工作记录.range('C8').value\n",
    "\n",
    "v_末次_工作人员 = s_sheet_工作记录.range('D5').value\n",
    "v_末次_工作日期 = s_sheet_工作记录.range('D6').value\n",
    "v_末次_工作时间 = s_sheet_工作记录.range('D7').value\n",
    "v_末次_工作地点 = s_sheet_工作记录.range('D8').value\n",
    "\n",
    "v_异常情况 = s_sheet_工作记录.range('C13').value\n",
    "v_备注 = s_sheet_工作记录.range('C14').value\n",
    "\n",
    "v_船龄 = s_sheet_记1.range('J7').value\n",
    "v_船龄 = str(v_船龄).replace('年', '')\n",
    "v_装卸始 = '{} {}'.format(v_首次_工作日期.strftime('%Y/%m/%d'), v_首次_工作时间.split('-')[1])"
   ],
   "metadata": {
    "collapsed": false,
    "pycharm": {
     "name": "#%%\n"
    }
   }
  },
  {
   "cell_type": "code",
   "execution_count": 19,
   "outputs": [
    {
     "data": {
      "text/plain": "datetime.datetime(2021, 5, 23, 10, 0)"
     },
     "execution_count": 19,
     "metadata": {},
     "output_type": "execute_result"
    }
   ],
   "source": [
    "# s_sheet_货物信息\n",
    "v_货物卸毕时间 = s_sheet_货物信息.range('G7').value  #注册国家地区\n",
    "\n",
    "v_货物卸毕时间"
   ],
   "metadata": {
    "collapsed": false,
    "pycharm": {
     "name": "#%%\n"
    }
   }
  },
  {
   "cell_type": "code",
   "execution_count": 20,
   "outputs": [],
   "source": [
    "t_sheet_工作记录单.range('C7').value = v_船舶名称\n",
    "t_sheet_工作记录单.range('C8').value = v_船次\n",
    "t_sheet_工作记录单.range('F8').value = v_注册国家地区\n",
    "\n",
    "t_sheet_工作记录单.range('N8').value = v_船龄\n",
    "\n",
    "t_sheet_工作记录单.range('D10').value = (v_靠泊时间 - dt.timedelta(days=1))\n",
    "t_sheet_工作记录单.range('F10').value = (v_靠泊时间)\n",
    "\n",
    "t_sheet_工作记录单.range('L10').value = v_装卸始\n",
    "t_sheet_工作记录单.range('R10').value = v_货物卸毕时间\n",
    "\n",
    "t_sheet_工作记录单.range('D11').value = v_首次_工作人员\n",
    "t_sheet_工作记录单.range('D12').value = v_首次_工作日期\n",
    "t_sheet_工作记录单.range('E12').value = v_首次_工作时间\n",
    "t_sheet_工作记录单.range('D13').value = v_首次_工作地点\n",
    "\n",
    "t_sheet_工作记录单.range('L11').value = v_末次_工作人员\n",
    "t_sheet_工作记录单.range('L12').value = v_末次_工作日期\n",
    "t_sheet_工作记录单.range('N12').value = v_末次_工作时间\n",
    "t_sheet_工作记录单.range('L13').value = v_末次_工作地点\n",
    "\n",
    "t_sheet_工作记录单.range('B26').value = '备注：{}  异常情况：{}'.format(v_备注, v_异常情况)\n",
    "\n"
   ],
   "metadata": {
    "collapsed": false,
    "pycharm": {
     "name": "#%%\n"
    }
   }
  },
  {
   "cell_type": "code",
   "execution_count": 21,
   "outputs": [],
   "source": [
    "t_wb.save()\n",
    "s_wb.save()\n",
    "\n",
    "# s_wb.close()\n",
    "# t_wb.close()"
   ],
   "metadata": {
    "collapsed": false,
    "pycharm": {
     "name": "#%%\n"
    }
   }
  },
  {
   "cell_type": "code",
   "execution_count": 21,
   "outputs": [],
   "source": [],
   "metadata": {
    "collapsed": false,
    "pycharm": {
     "name": "#%%\n"
    }
   }
  }
 ],
 "metadata": {
  "kernelspec": {
   "display_name": "Python 3",
   "language": "python",
   "name": "python3"
  },
  "language_info": {
   "codemirror_mode": {
    "name": "ipython",
    "version": 2
   },
   "file_extension": ".py",
   "mimetype": "text/x-python",
   "name": "python",
   "nbconvert_exporter": "python",
   "pygments_lexer": "ipython2",
   "version": "2.7.6"
  }
 },
 "nbformat": 4,
 "nbformat_minor": 0
}