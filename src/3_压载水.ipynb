{
 "cells": [
  {
   "cell_type": "markdown",
   "metadata": {
    "collapsed": true,
    "pycharm": {
     "name": "#%% md\n"
    }
   },
   "source": [
    "# 压载水"
   ]
  },
  {
   "cell_type": "code",
   "execution_count": 71,
   "outputs": [],
   "source": [
    "\n",
    "import xlwings as xw"
   ],
   "metadata": {
    "collapsed": false,
    "pycharm": {
     "name": "#%%\n"
    }
   }
  },
  {
   "cell_type": "code",
   "execution_count": 93,
   "outputs": [],
   "source": [
    "# 打开\n",
    "s_wb = xw.Book('../resources/2021-05-23 宝丽 末次.xlsx')\n",
    "t_wb = xw.Book('../resources/空白水尺模板.xlsx')"
   ],
   "metadata": {
    "collapsed": false,
    "pycharm": {
     "name": "#%%\n"
    }
   }
  },
  {
   "cell_type": "code",
   "execution_count": 94,
   "outputs": [],
   "source": [
    "s_sheet_船用物料 = s_wb.sheets['船用物料']\n",
    "\n",
    "t_sheet_压载水 = t_wb.sheets['压载水']\n"
   ],
   "metadata": {
    "collapsed": false,
    "pycharm": {
     "name": "#%%\n"
    }
   }
  },
  {
   "cell_type": "code",
   "execution_count": 95,
   "outputs": [],
   "source": [
    "# s_sheet_水尺计算\n",
    "v_船舱型号 = s_sheet_船用物料.range('C20:C44').value\n",
    "v_船舱型号 = list(filter(None, v_船舱型号))\n",
    "\n",
    "v_首次_管高 = s_sheet_船用物料.range('D20:D44').value\n",
    "v_首次_测深 = s_sheet_船用物料.range('E20:E44').value\n",
    "v_首次_体积 = s_sheet_船用物料.range('F20:F44').value\n",
    "\n",
    "v_末次_测深 = s_sheet_船用物料.range('G20:G44').value\n",
    "v_末次_体积 = s_sheet_船用物料.range('H20:H44').value\n",
    "\n",
    "v_首次_FWTP = s_sheet_船用物料.range('F13').value\n",
    "v_首次_FWTS = s_sheet_船用物料.range('F14').value\n",
    "v_末次_FWTP = s_sheet_船用物料.range('H13').value\n",
    "v_末次_FWTS = s_sheet_船用物料.range('H14').value\n"
   ],
   "metadata": {
    "collapsed": false,
    "pycharm": {
     "name": "#%%\n"
    }
   }
  },
  {
   "cell_type": "code",
   "execution_count": 96,
   "outputs": [],
   "source": [
    "# 第一页\n",
    "\n",
    "t_sheet_压载水.range('A11').options(transpose=True).value = v_船舱型号\n",
    "t_sheet_压载水.range('B11').options(transpose=True).value = v_首次_管高\n",
    "t_sheet_压载水.range('C11').options(transpose=True).value = v_首次_管高\n",
    "t_sheet_压载水.range('D11').options(transpose=True).value = v_首次_测深\n",
    "t_sheet_压载水.range('E11').options(transpose=True).value = v_首次_体积\n",
    "t_sheet_压载水.range('F11').options(transpose=True).value = [1.025 for i in range(len(v_船舱型号))]\n",
    "t_sheet_压载水.range('I11').options(transpose=True).value = v_末次_测深\n",
    "t_sheet_压载水.range('J11').options(transpose=True).value = v_末次_测深\n",
    "t_sheet_压载水.range('K11').options(transpose=True).value = v_末次_体积\n",
    "t_sheet_压载水.range('L11').options(transpose=True).value = [1.025 for i in range(len(v_船舱型号))]\n",
    "\n",
    "t_sheet_压载水.range('G37').options(transpose=True).value = v_首次_FWTP\n",
    "t_sheet_压载水.range('G38').options(transpose=True).value = v_首次_FWTS\n",
    "t_sheet_压载水.range('M37').options(transpose=True).value = v_末次_FWTP\n",
    "t_sheet_压载水.range('M38').options(transpose=True).value = v_末次_FWTS\n"
   ],
   "metadata": {
    "collapsed": false,
    "pycharm": {
     "name": "#%%\n"
    }
   }
  },
  {
   "cell_type": "code",
   "execution_count": 98,
   "outputs": [],
   "source": [
    "t_wb.save()\n",
    "s_wb.save()\n",
    "#\n",
    "# s_wb.close()\n",
    "# t_wb.close()"
   ],
   "metadata": {
    "collapsed": false,
    "pycharm": {
     "name": "#%%\n"
    }
   }
  },
  {
   "cell_type": "code",
   "execution_count": 77,
   "outputs": [],
   "source": [],
   "metadata": {
    "collapsed": false,
    "pycharm": {
     "name": "#%%\n"
    }
   }
  }
 ],
 "metadata": {
  "kernelspec": {
   "display_name": "Python 3",
   "language": "python",
   "name": "python3"
  },
  "language_info": {
   "codemirror_mode": {
    "name": "ipython",
    "version": 2
   },
   "file_extension": ".py",
   "mimetype": "text/x-python",
   "name": "python",
   "nbconvert_exporter": "python",
   "pygments_lexer": "ipython2",
   "version": "2.7.6"
  }
 },
 "nbformat": 4,
 "nbformat_minor": 0
}